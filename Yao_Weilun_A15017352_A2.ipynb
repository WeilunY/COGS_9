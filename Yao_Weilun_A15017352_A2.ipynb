{
 "cells": [
  {
   "cell_type": "code",
   "execution_count": 1,
   "metadata": {
    "collapsed": true
   },
   "outputs": [],
   "source": [
    "#Data\n",
    "\n",
    "x1 = [10.0, 8.0, 13.0, 9.0, 11.0, 14.0, 6.0, 4.0, 12.0, 7.0, 5.0]\n",
    "y1 = [8.04, 6.95, 7.58, 8.81, 8.33, 9.96, 7.24, 4.26, 10.84, 4.82, 5.68]\n",
    "x2 = [10.0, 8.0, 13.0, 9.0, 11.0, 14.0, 6.0, 4.0, 12.0, 7.0, 5.0]\n",
    "y2 = [9.14, 8.14, 8.74, 8.77, 9.26, 8.10, 6.13, 3.10, 9.13, 7.26, 4.74]\n",
    "x3 = [10.0, 8.0, 13.0, 9.0, 11.0, 14.0, 6.0, 4.0, 12.0, 7.0, 5.0]\n",
    "y3 = [7.46, 6.77, 12.74, 7.11, 7.81, 8.84, 6.08, 5.39, 8.15, 6.42, 5.73]\n",
    "x4 = [8.0, 8.0, 8.0, 8.0, 8.0, 8.0, 8.0, 19.0, 8.0, 8.0, 8.0]\n",
    "y4 = [6.58, 5.76, 7.71, 8.84, 8.47, 7.04, 5.25, 12.50, 5.56, 7.91, 6.89]\n"
   ]
  },
  {
   "cell_type": "markdown",
   "metadata": {},
   "source": [
    "## Question 1:\n"
   ]
  },
  {
   "cell_type": "code",
   "execution_count": 2,
   "metadata": {
    "collapsed": true
   },
   "outputs": [],
   "source": [
    "import numpy as np"
   ]
  },
  {
   "cell_type": "code",
   "execution_count": 3,
   "metadata": {
    "collapsed": true
   },
   "outputs": [],
   "source": [
    "# Mean\n",
    "mean_x1 = np.mean(x1)\n",
    "mean_y1 = np.mean(y1)\n",
    "\n",
    "\n",
    "mean_x2 = np.mean(x2)\n",
    "mean_y2 = np.mean(y2)\n",
    "\n",
    "mean_x3 = np.mean(x4)\n",
    "mean_y3 = np.mean(y4)\n",
    "\n",
    "mean_x4 = np.mean(x4)\n",
    "mean_y4 = np.mean(y4)\n"
   ]
  },
  {
   "cell_type": "code",
   "execution_count": 4,
   "metadata": {},
   "outputs": [
    {
     "name": "stdout",
     "output_type": "stream",
     "text": [
      "Mean: \n",
      "x1:  9.0\n",
      "y1:  7.50090909091\n",
      "x2:  9.0\n",
      "y2:  7.50090909091\n",
      "x3:  9.0\n",
      "y3:  7.50090909091\n",
      "x4:  9.0\n",
      "y4:  7.50090909091\n"
     ]
    }
   ],
   "source": [
    "print('Mean: ')\n",
    "print('x1: ', mean_x1)\n",
    "print('y1: ', mean_y1)\n",
    "print('x2: ', mean_x2)\n",
    "print('y2: ', mean_y2)\n",
    "print('x3: ', mean_x3)\n",
    "print('y3: ', mean_y3)\n",
    "print('x4: ', mean_x4)\n",
    "print('y4: ', mean_y4)"
   ]
  },
  {
   "cell_type": "code",
   "execution_count": 5,
   "metadata": {
    "collapsed": true
   },
   "outputs": [],
   "source": [
    "# Variance\n",
    "\n",
    "var_x1 = np.var(x1)\n",
    "var_y1 = np.var(y1)\n",
    "\n",
    "var_x2 = np.var(x2)\n",
    "var_y2 = np.var(y2)\n",
    "\n",
    "var_x3 = np.var(x3)\n",
    "var_y3 = np.var(y3)\n",
    "\n",
    "var_x4 = np.var(x4)\n",
    "var_y4 = np.var(y4)"
   ]
  },
  {
   "cell_type": "code",
   "execution_count": 6,
   "metadata": {},
   "outputs": [
    {
     "name": "stdout",
     "output_type": "stream",
     "text": [
      "Variance: \n",
      "x1:  10.0\n",
      "y1:  3.75206280992\n",
      "x2:  10.0\n",
      "y2:  3.75239008264\n",
      "x3:  10.0\n",
      "y3:  3.74783636364\n",
      "x4:  10.0\n",
      "y4:  3.74840826446\n"
     ]
    }
   ],
   "source": [
    "print('Variance: ')\n",
    "print('x1: ', var_x1)\n",
    "print('y1: ', var_y1)\n",
    "print('x2: ', var_x2)\n",
    "print('y2: ', var_y2)\n",
    "print('x3: ', var_x3)\n",
    "print('y3: ', var_y3)\n",
    "print('x4: ', var_x4)\n",
    "print('y4: ', var_y4)"
   ]
  },
  {
   "cell_type": "code",
   "execution_count": 7,
   "metadata": {
    "collapsed": true
   },
   "outputs": [],
   "source": [
    "# Correlation Coeficient\n",
    "\n",
    "cor_x1_y1 = np.corrcoef(x1, y1)\n",
    "cor_x2_y2 = np.corrcoef(x2, y2)\n",
    "cor_x3_y3 = np.corrcoef(x3, y3)\n",
    "cor_x4_y4 = np.corrcoef(x4, y4)"
   ]
  },
  {
   "cell_type": "code",
   "execution_count": 8,
   "metadata": {},
   "outputs": [
    {
     "name": "stdout",
     "output_type": "stream",
     "text": [
      "Correlation: \n",
      "x1 and y1:  [[ 1.          0.81642052]\n",
      " [ 0.81642052  1.        ]]\n",
      "x2 and y2:  [[ 1.          0.81623651]\n",
      " [ 0.81623651  1.        ]]\n",
      "x3 and y3:  [[ 1.          0.81628674]\n",
      " [ 0.81628674  1.        ]]\n",
      "x4 and y4:  [[ 1.          0.81628674]\n",
      " [ 0.81628674  1.        ]]\n"
     ]
    }
   ],
   "source": [
    "print('Correlation: ')\n",
    "print('x1 and y1: ', cor_x1_y1)\n",
    "print('x2 and y2: ', cor_x2_y2)\n",
    "print('x3 and y3: ', cor_x3_y3)\n",
    "print('x4 and y4: ', cor_x3_y3)"
   ]
  },
  {
   "cell_type": "code",
   "execution_count": 9,
   "metadata": {
    "collapsed": true
   },
   "outputs": [],
   "source": [
    "import matplotlib.pyplot as plt"
   ]
  },
  {
   "cell_type": "code",
   "execution_count": 10,
   "metadata": {},
   "outputs": [
    {
     "data": {
      "image/png": "[encoded data removed]",
      "text/plain": [
       "<matplotlib.figure.Figure at 0x119d5fb70>"
      ]
     },
     "metadata": {},
     "output_type": "display_data"
    },
    {
     "data": {
      "image/png": "[encoded data removed]",
      "text/plain": [
       "<matplotlib.figure.Figure at 0x119d5fb38>"
      ]
     },
     "metadata": {},
     "output_type": "display_data"
    },
    {
     "data": {
      "image/png": "[encoded data removed]",
      "text/plain": [
       "<matplotlib.figure.Figure at 0x119ec1f28>"
      ]
     },
     "metadata": {},
     "output_type": "display_data"
    },
    {
     "data": {
      "image/png": "[encoded data removed]",
      "text/plain": [
       "<matplotlib.figure.Figure at 0x119dabc18>"
      ]
     },
     "metadata": {},
     "output_type": "display_data"
    }
   ],
   "source": [
    "#Scatter for x1 y1\n",
    "plt.scatter(x1, y1)\n",
    "plt.title('X1 and Y1')\n",
    "plt.xlabel('x1')\n",
    "plt.ylabel('y1')\n",
    "\n",
    "plt.show()\n",
    "\n",
    "#Scatter for x2 y2\n",
    "plt.scatter(x2, y2)\n",
    "plt.title('X2 and Y2')\n",
    "plt.xlabel('x2')\n",
    "plt.ylabel('y2')\n",
    "\n",
    "plt.show()\n",
    "\n",
    "#Scatter for x3 y3\n",
    "plt.scatter(x3, y3)\n",
    "plt.title('X3 and Y3')\n",
    "plt.xlabel('x3')\n",
    "plt.ylabel('y3')\n",
    "\n",
    "plt.show()\n",
    "\n",
    "#Scatter for x4 y4\n",
    "plt.scatter(x4, y4)\n",
    "plt.title('X4 and Y4')\n",
    "plt.xlabel('x4')\n",
    "plt.ylabel('y4')\n",
    "\n",
    "plt.show()"
   ]
  },
  {
   "cell_type": "markdown",
   "metadata": {},
   "source": [
    "## Question 2:\n"
   ]
  },
  {
   "cell_type": "markdown",
   "metadata": {},
   "source": [
    "There is a strong positive linear relationship between each set of data. "
   ]
  },
  {
   "cell_type": "markdown",
   "metadata": {},
   "source": [
    "## Question 3:\n"
   ]
  },
  {
   "cell_type": "markdown",
   "metadata": {},
   "source": [
    "All four sets of data have similar mean, varriance, and coefficent. But those four set data are not identical to each other. There scatter plots are very different.\n"
   ]
  },
  {
   "cell_type": "markdown",
   "metadata": {
    "collapsed": true
   },
   "source": [
    "The first three data sets have the same x variables but different y variables. It seems that the data is trying to find the how different y values relate to certain set of x values. Such as the height of certian specie at certain age (x is age, y is height). The fourth data compare the dfferent y values with one x value. It seems it is exploring how a group of species at certain age have different heights."
   ]
  },
  {
   "cell_type": "code",
   "execution_count": null,
   "metadata": {
    "collapsed": true
   },
   "outputs": [],
   "source": []
  }
 ],
 "metadata": {
  "kernelspec": {
   "display_name": "Python [default]",
   "language": "python",
   "name": "python3"
  },
  "language_info": {
   "codemirror_mode": {
    "name": "ipython",
    "version": 3
   },
   "file_extension": ".py",
   "mimetype": "text/x-python",
   "name": "python",
   "nbconvert_exporter": "python",
   "pygments_lexer": "ipython3",
   "version": "3.6.1"
  }
 },
 "nbformat": 4,
 "nbformat_minor": 2
}
